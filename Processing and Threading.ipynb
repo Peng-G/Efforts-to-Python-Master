{
 "cells": [
  {
   "cell_type": "markdown",
   "metadata": {},
   "source": [
    "# 进程和线程"
   ]
  },
  {
   "cell_type": "markdown",
   "metadata": {},
   "source": [
    "## Python中的进程 - multiprocessing"
   ]
  },
  {
   "cell_type": "markdown",
   "metadata": {},
   "source": [
    "## Python中的线程 - threading"
   ]
  },
  {
   "cell_type": "markdown",
   "metadata": {},
   "source": [
    "### 1. 首先看一个简单的多线程的例子:"
   ]
  },
  {
   "cell_type": "code",
   "execution_count": 1,
   "metadata": {},
   "outputs": [],
   "source": [
    "import time\n",
    "import threading"
   ]
  },
  {
   "cell_type": "code",
   "execution_count": 2,
   "metadata": {},
   "outputs": [],
   "source": [
    "def loop():\n",
    "    print('thread %s is running...' % threading.current_thread().name)\n",
    "    n = 0\n",
    "    while n < 5:\n",
    "        n = n + 1\n",
    "        print('thread %s >>> %s' % (threading.current_thread().name, n))\n",
    "        time.sleep(1)\n",
    "    print('thread %s ended.' % threading.current_thread().name)"
   ]
  },
  {
   "cell_type": "code",
   "execution_count": 3,
   "metadata": {},
   "outputs": [
    {
     "name": "stdout",
     "output_type": "stream",
     "text": [
      "thread MainThread is running...\n",
      "thread LoopThread is running...\n",
      "thread LoopThread >>> 1\n",
      "thread LoopThread >>> 2\n",
      "thread LoopThread >>> 3\n",
      "thread LoopThread >>> 4\n",
      "thread LoopThread >>> 5\n",
      "thread LoopThread ended.\n",
      "thread MainThread ended.\n"
     ]
    }
   ],
   "source": [
    "print('thread %s is running...' % threading.current_thread().name)\n",
    "t = threading.Thread(target=loop, name='LoopThread')\n",
    "t.start()\n",
    "t.join()\n",
    "print('thread %s ended.' % threading.current_thread().name)"
   ]
  },
  {
   "cell_type": "markdown",
   "metadata": {},
   "source": [
    "- 下面是一个多线程共同操作同一个变量的例子，定义了一个函数，该函数的功能是对一个全局变量进行累加，然后创建了两个线程，分别调用这个函数，最后打印出这个全局变量的值，可以看到，最后的结果是不确定的，因为两个线程都在对这个变量进行操作，所以最后的结果是不确定的。"
   ]
  },
  {
   "cell_type": "code",
   "execution_count": 4,
   "metadata": {},
   "outputs": [
    {
     "name": "stdout",
     "output_type": "stream",
     "text": [
      "18\n"
     ]
    }
   ],
   "source": [
    "# 假定这是你的银行存款:\n",
    "balance = 0\n",
    "\n",
    "def change_it(n):\n",
    "    # 先存后取，结果应该为0:\n",
    "    global balance\n",
    "    balance = balance + n\n",
    "    balance = balance - n\n",
    "\n",
    "def run_thread(n):\n",
    "    for i in range(2000000):\n",
    "        change_it(n)\n",
    "\n",
    "t1 = threading.Thread(target=run_thread, args=(5,))\n",
    "t2 = threading.Thread(target=run_thread, args=(8,))\n",
    "t1.start()\n",
    "t2.start()\n",
    "t1.join()\n",
    "t2.join()\n",
    "print(balance)"
   ]
  },
  {
   "cell_type": "markdown",
   "metadata": {},
   "source": [
    "- 我们可以通过给程序加入线程锁来解决这个问题。在一个线程操作的时候，其他线程必须等待，直到这个线程操作完毕。\n",
    "- 锁的好处是确保了某段关键代码只能由一个线程从头到尾完整地执行，坏处当然也很多，首先是阻塞了其他线程，其次是由于可以存在多个锁，不同的线程持有不同的锁，并试图获取对方持有的锁时，可能会造成死锁，导致多个线程全部挂起，既不能执行，也无法结束，只能靠操作系统强制终止。"
   ]
  },
  {
   "cell_type": "code",
   "execution_count": 5,
   "metadata": {},
   "outputs": [
    {
     "name": "stdout",
     "output_type": "stream",
     "text": [
      "0\n"
     ]
    }
   ],
   "source": [
    "balance = 0\n",
    "lock = threading.Lock()\n",
    "\n",
    "def run_thread(n):\n",
    "    for i in range(100000):\n",
    "        # 先要获取锁: 只有一个线程可以成功获取锁，其他的线程就必须等待。\n",
    "        lock.acquire()\n",
    "        try:\n",
    "            # 放心地改吧: 只有获得锁的线程才能改\n",
    "            change_it(n)\n",
    "        finally:\n",
    "            # 改完了一定要释放锁: 否则其他的线程就会永远等待下去，成为了僵尸线程。\n",
    "            lock.release()\n",
    "\n",
    "t1 = threading.Thread(target=run_thread, args=(5,))\n",
    "t2 = threading.Thread(target=run_thread, args=(8,))\n",
    "t1.start()\n",
    "t2.start()\n",
    "t1.join()\n",
    "t2.join()\n",
    "print(balance)"
   ]
  },
  {
   "cell_type": "markdown",
   "metadata": {},
   "source": [
    "- 下面是一个简单的程序可以直观地展示锁的获取和释放过程。"
   ]
  },
  {
   "cell_type": "code",
   "execution_count": 8,
   "metadata": {},
   "outputs": [
    {
     "name": "stdout",
     "output_type": "stream",
     "text": [
      "run_thread_1 lock the LOCK\n",
      "run_thread_1 is doing something\n",
      "run_thread_2 is waiting\n",
      "run_thread_2 is waiting\n",
      "run_thread_2 is waiting\n",
      "run_thread_2 is waiting\n",
      "run_thread_2 is waiting\n",
      "run_thread_1 release the LOCK\n",
      "run_thread_2 lock the LOCK\n",
      "run_thread_2 is doing something\n",
      "run_thread_2 release the LOCK\n",
      "finish\n"
     ]
    }
   ],
   "source": [
    "LOCK = False\n",
    "def run_thread_1():\n",
    "   global LOCK\n",
    "   while LOCK:\n",
    "      print(\"run_thread_1 is waiting\")\n",
    "      time.sleep(1)\n",
    "   LOCK = True   \n",
    "   print(\"run_thread_1 lock the LOCK\")\n",
    "   print(\"run_thread_1 is doing something\")\n",
    "   time.sleep(5)\n",
    "   LOCK = False   \n",
    "   print(\"run_thread_1 release the LOCK\")\n",
    "\n",
    "def run_thread_2():\n",
    "   global LOCK\n",
    "   while LOCK:\n",
    "      print(\"run_thread_2 is waiting\")\n",
    "      time.sleep(1)\n",
    "   print(\"run_thread_2 lock the LOCK\")\n",
    "   LOCK = True   \n",
    "   print(\"run_thread_2 is doing something\")\n",
    "   time.sleep(3)\n",
    "   LOCK = False   \n",
    "   print(\"run_thread_2 release the LOCK\")\n",
    "   \n",
    "task1 = threading.Thread(target=run_thread_1)\n",
    "task2 = threading.Thread(target=run_thread_2)\n",
    "task1.start()\n",
    "task2.start()\n",
    "task1.join()\n",
    "task2.join()\n",
    "print(\"finish\")"
   ]
  },
  {
   "cell_type": "markdown",
   "metadata": {},
   "source": [
    "- 接下来看一下多核CPU的情况下，多线程的效果，以及Python对多核CPU的支持。"
   ]
  },
  {
   "cell_type": "code",
   "execution_count": 9,
   "metadata": {},
   "outputs": [
    {
     "data": {
      "text/plain": [
       "8"
      ]
     },
     "execution_count": 9,
     "metadata": {},
     "output_type": "execute_result"
    }
   ],
   "source": [
    "import multiprocessing\n",
    "multiprocessing.cpu_count()"
   ]
  },
  {
   "cell_type": "code",
   "execution_count": 11,
   "metadata": {},
   "outputs": [],
   "source": [
    "def loop():\n",
    "    x = 0\n",
    "    while True:\n",
    "        x = x ^ 1\n",
    "\n",
    "for i in range(multiprocessing.cpu_count()):\n",
    "    t = threading.Thread(target=loop)\n",
    "    t.start()"
   ]
  },
  {
   "cell_type": "markdown",
   "metadata": {},
   "source": [
    "- 可以发现，使用多线程的效果并不明显，这是因为Python的线程虽然是真正的线程，但解释器执行代码时，有一个GIL锁：Global Interpreter Lock，任何Python线程执行前，必须先获得GIL锁，然后，每执行100条字节码，解释器就自动释放GIL锁，让别的线程有机会执行。这个GIL全局锁实际上把所有线程的执行代码都给上了锁，所以，多线程在Python中只能交替执行，即使100个线程跑在100核CPU上，也只能用到1个核。"
   ]
  },
  {
   "cell_type": "markdown",
   "metadata": {},
   "source": [
    "### 2. 一个简单的应用场景模拟"
   ]
  },
  {
   "cell_type": "markdown",
   "metadata": {},
   "source": [
    "- 场景描述：在网上商城的结算阶段，服务器会首先检查支付情况，如何支付成功，就会给客户发送订单确认邮件，同时将浏览器的网页跳转到感谢页面。假设各个步骤花费的时间如下：\n",
    "  - 检查支付：5秒\n",
    "  - 发送邮件：10秒\n",
    "  - 感谢页面：3秒\n",
    "- 注意事项：三个步骤各自使用一个线程来处理，但是，如果没有确认支付成功，就不需要发送邮件和跳转到感谢页面。"
   ]
  },
  {
   "cell_type": "code",
   "execution_count": 7,
   "metadata": {},
   "outputs": [
    {
     "name": "stdout",
     "output_type": "stream",
     "text": [
      "Starting checking payment\n",
      "\n",
      "Starting sending email\n",
      "\n",
      "Starting loading page\n",
      "\n",
      "checking payment: Mon Sep 26 21:33:30 2022 5\n",
      "\n",
      "checking payment: Mon Sep 26 21:33:31 2022 4\n",
      "\n",
      "checking payment: Mon Sep 26 21:33:32 2022 3\n",
      "\n",
      "checking payment: Mon Sep 26 21:33:33 2022 2\n",
      "\n",
      "checking payment: Mon Sep 26 21:33:34 2022 1\n",
      "\n",
      "Exiting checking payment\n",
      "\n",
      "loading page: Mon Sep 26 21:33:35 2022 3\n",
      "sending email: Mon Sep 26 21:33:35 2022 10\n",
      "\n",
      "\n",
      "sending email: Mon Sep 26 21:33:35 2022 9\n",
      "\n",
      "loading page: Mon Sep 26 21:33:35 2022 2\n",
      "\n",
      "loading page: Mon Sep 26 21:33:36 2022 1\n",
      "sending email: Mon Sep 26 21:33:36 2022 8\n",
      "\n",
      "Exiting loading page\n",
      "\n",
      "\n",
      "sending email: Mon Sep 26 21:33:36 2022 7\n",
      "\n",
      "sending email: Mon Sep 26 21:33:37 2022 6\n",
      "\n",
      "sending email: Mon Sep 26 21:33:37 2022 5\n",
      "\n",
      "sending email: Mon Sep 26 21:33:38 2022 4\n",
      "\n",
      "sending email: Mon Sep 26 21:33:38 2022 3\n",
      "\n",
      "sending email: Mon Sep 26 21:33:39 2022 2\n",
      "\n",
      "sending email: Mon Sep 26 21:33:39 2022 1\n",
      "\n",
      "Exiting sending email\n",
      "\n",
      "Exiting Main Thread\n"
     ]
    }
   ],
   "source": [
    "import threading\n",
    "import time\n",
    "\n",
    "lock = threading.Lock()\n",
    "\n",
    "class myThread1(threading.Thread):\n",
    "    def __init__(self, threadID, name, counter):\n",
    "        threading.Thread.__init__(self)\n",
    "        self.threadID = threadID\n",
    "        self.name = name\n",
    "        self.counter = counter\n",
    "    \n",
    "    def run(self):\n",
    "        print(\"Starting \" + self.name + \"\\n\")\n",
    "        lock.acquire()\n",
    "        print_time(self.name, 1, self.counter)\n",
    "        lock.release()\n",
    "        print(\"Exiting \" + self.name + \"\\n\")\n",
    "\n",
    "class myThread2(threading.Thread):\n",
    "    def __init__(self, threadID, name, counter):\n",
    "        threading.Thread.__init__(self)\n",
    "        self.threadID = threadID\n",
    "        self.name = name\n",
    "        self.counter = counter\n",
    "    \n",
    "    def run(self):\n",
    "        print(\"Starting \" + self.name + \"\\n\")\n",
    "        lock.acquire()\n",
    "        lock.release()\n",
    "        print_time(self.name, 1, self.counter)\n",
    "        print(\"Exiting \" + self.name + \"\\n\")\n",
    "\n",
    "def print_time(threadName, delay, counter):\n",
    "    while counter:\n",
    "        time.sleep(delay)\n",
    "        print(\"%s: %s %s\" % (threadName, time.ctime(time.time()), counter) + \"\\n\")\n",
    "        counter -= 1\n",
    "\n",
    "# Create new threads\n",
    "thread1 = myThread1(1, \"checking payment\", 5)\n",
    "thread2 = myThread2(2, \"sending email\", 10)\n",
    "thread3 = myThread2(3, \"loading page\", 3)\n",
    "\n",
    "# Start new Threads\n",
    "thread1.start()\n",
    "thread2.start()\n",
    "thread3.start()\n",
    "thread1.join()\n",
    "thread2.join()\n",
    "thread3.join()\n",
    "print(\"Exiting Main Thread\")"
   ]
  },
  {
   "cell_type": "code",
   "execution_count": 1,
   "metadata": {},
   "outputs": [
    {
     "name": "stdout",
     "output_type": "stream",
     "text": [
      "False\n",
      "False\n",
      "hello\n"
     ]
    }
   ],
   "source": [
    "from concurrent.futures import ThreadPoolExecutor\n",
    "import time\n",
    "\n",
    "def return_future(msg):\n",
    "    time.sleep(3)\n",
    "    return msg\n",
    "\n",
    "pool = ThreadPoolExecutor(max_workers=2)\n",
    "future = pool.submit(return_future, (\"hello\"))\n",
    "print(future.done())\n",
    "time.sleep(3)\n",
    "print(future.done())\n",
    "print(future.result())\n"
   ]
  },
  {
   "cell_type": "code",
   "execution_count": 8,
   "metadata": {},
   "outputs": [
    {
     "name": "stdout",
     "output_type": "stream",
     "text": [
      "112272535095293 is prime: True\n",
      "112582705942171 is prime: True\n",
      "112272535095293 is prime: True\n",
      "115280095190773 is prime: True\n",
      "115797848077099 is prime: True\n",
      "1099726899285419 is prime: False\n"
     ]
    }
   ],
   "source": [
    "import concurrent.futures\n",
    "import math\n",
    "\n",
    "PRIMES = [\n",
    "    112272535095293,\n",
    "    112582705942171,\n",
    "    112272535095293,\n",
    "    115280095190773,\n",
    "    115797848077099,\n",
    "    1099726899285419]\n",
    "\n",
    "def is_prime(n):\n",
    "    if n < 2:\n",
    "        return False\n",
    "    if n == 2:\n",
    "        return True\n",
    "    if n % 2 == 0:\n",
    "        return False\n",
    "\n",
    "    sqrt_n = int(math.floor(math.sqrt(n)))\n",
    "    for i in range(3, sqrt_n + 1, 2):\n",
    "        if n % i == 0:\n",
    "            return False\n",
    "    return True\n",
    "\n",
    "\n",
    "with ThreadPoolExecutor(max_workers=4) as executor:\n",
    "    for number, prime in zip(PRIMES, executor.map(is_prime, PRIMES)):\n",
    "        print('%d is prime: %s' % (number, prime))\n",
    "\n",
    "# for number, prime in zip(PRIMES, map(is_prime, PRIMES)):\n",
    "#     print('%d is prime: %s' % (number, prime))"
   ]
  }
 ],
 "metadata": {
  "kernelspec": {
   "display_name": "Python 3.9.12 ('workspace')",
   "language": "python",
   "name": "python3"
  },
  "language_info": {
   "codemirror_mode": {
    "name": "ipython",
    "version": 3
   },
   "file_extension": ".py",
   "mimetype": "text/x-python",
   "name": "python",
   "nbconvert_exporter": "python",
   "pygments_lexer": "ipython3",
   "version": "3.9.12"
  },
  "orig_nbformat": 4,
  "vscode": {
   "interpreter": {
    "hash": "ac1dc13113e42291fe25f725e47a5b271150c7ade2d4d4a0b40dea2fbb597238"
   }
  }
 },
 "nbformat": 4,
 "nbformat_minor": 2
}
